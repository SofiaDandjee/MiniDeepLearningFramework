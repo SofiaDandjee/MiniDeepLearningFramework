{
 "cells": [
  {
   "cell_type": "code",
   "execution_count": 144,
   "metadata": {},
   "outputs": [],
   "source": [
    "import torch\n",
    "from torch import Tensor\n",
    "torch.set_grad_enabled(False)\n",
    "from torch import *\n",
    "\n",
    "from torch import nn\n",
    "from torch import optim\n",
    "from torch.nn import functional as F\n",
    "import math\n",
    "import time #used for benchmarking"
   ]
  },
  {
   "cell_type": "code",
   "execution_count": 111,
   "metadata": {},
   "outputs": [],
   "source": [
    "import matplotlib \n",
    "from matplotlib import pyplot as plt"
   ]
  },
  {
   "cell_type": "markdown",
   "metadata": {},
   "source": [
    "### Readme pls :)  \n",
    "All layers follow the same principle:  \n",
    "* **forward**: return the layer's output if given some input. Additionally, Linear layers will store the inputted data to do the backward pass.\n",
    "* **backward**: compute the layer's gradients given the successor layers' gradient. Linear layer will also store the next layer gradient to do its update step.\n",
    "* **step**: given an step size eta, will update the Linear weights and biases accordingly. Do nothing on activation layers.\n",
    "* **param** (utility): return layer's parameter in a list. Activation layers return an empty list while Linear layers return its weight and biases parameter."
   ]
  },
  {
   "cell_type": "markdown",
   "metadata": {},
   "source": [
    "# Activation function"
   ]
  },
  {
   "cell_type": "code",
   "execution_count": 112,
   "metadata": {},
   "outputs": [],
   "source": [
    "class ActivationFunc(object):\n",
    "    def forward(self,x):\n",
    "        self.x = x\n",
    "    \n",
    "    def backward(self, *output_grad):\n",
    "        pass\n",
    "    \n",
    "    def requires_grad(self):\n",
    "        return False\n",
    "    \n",
    "    def zero_grad(self):\n",
    "        self.x= 0\n",
    "    \n",
    "    def param(self):\n",
    "        return []\n",
    "        "
   ]
  },
  {
   "cell_type": "code",
   "execution_count": 113,
   "metadata": {},
   "outputs": [],
   "source": [
    "class ReLU(ActivationFunc):        \n",
    "    \n",
    "    def forward(self, x):\n",
    "        super().forward(x)\n",
    "        return (x > 0) * x\n",
    "    \n",
    "    def backward(self, *output_grad):\n",
    "        \"\"\"first item of output_grad should be the derivative of the previous layer\"\"\"\n",
    "        dl_dr = (self.x > 0) * 1.0 * output_grad[0]\n",
    "        return dl_dr"
   ]
  },
  {
   "cell_type": "code",
   "execution_count": 114,
   "metadata": {},
   "outputs": [],
   "source": [
    "class Sigmoid(ActivationFunc):\n",
    "    \n",
    "    def sigmoid(self, x):\n",
    "        return 1 / (1 + torch.exp(-x))\n",
    "    \n",
    "    def forward(self, x):\n",
    "        super().forward(x)\n",
    "        return self.sigmoid(x)\n",
    "    \n",
    "    def backward(self, *output_grad):\n",
    "        \"\"\"first item of output_grad should be the derivative of the previous layer\"\"\"\n",
    "        dl_ds = (self.sigmoid(self.x) * (1 - self.sigmoid(self.x))) * output_grad[0]\n",
    "        return dl_ds"
   ]
  },
  {
   "cell_type": "code",
   "execution_count": 115,
   "metadata": {},
   "outputs": [],
   "source": [
    "class LeakyReLU(ActivationFunc):        \n",
    "    \n",
    "    def lrelu(self, x, alpha=0.01):\n",
    "        return torch.max(alpha * x, x)\n",
    "    \n",
    "    def forward(self, x, alpha=0.01):\n",
    "        super().forward(x)\n",
    "        return self.lrelu(x)\n",
    "    \n",
    "    def backward(self, *output_grad,alpha=0.01):\n",
    "        \"\"\"first item of output_grad should be the derivative of the previous layer\"\"\"\n",
    "        inter = (self.x >=0) + (self.x < 0)*alpha\n",
    "        dl_dlr =  inter * output_grad[0]\n",
    "        return dl_dlr"
   ]
  },
  {
   "cell_type": "code",
   "execution_count": 116,
   "metadata": {},
   "outputs": [],
   "source": [
    "class Tanh(ActivationFunc):\n",
    "    \n",
    "    def forward(self, x):\n",
    "        super().forward(x)\n",
    "        return (2 / (1 + (-2*x).exp())) - 1\n",
    "    \n",
    "    def backward(self, *output_grad):\n",
    "        \"\"\"first item of output_grad should be the derivative of the previous layer\"\"\"\n",
    "        dl_dt = (1 - self.forward(self.x)**2) * output_grad[0]\n",
    "        return dl_dt"
   ]
  },
  {
   "cell_type": "code",
   "execution_count": 117,
   "metadata": {},
   "outputs": [],
   "source": [
    "class ELU(ActivationFunc):        \n",
    "    \n",
    "    def forward(self, x, alpha=0.01):\n",
    "        #self.x = x\n",
    "        super().forward(x)\n",
    "        return (self.x >0)*x + (self.x <= 0)*alpha*(torch.exp(self.x) -1)\n",
    "    \n",
    "    def backward(self, *output_grad,alpha=0.01):\n",
    "        \"\"\"first item of output_grad should be the derivative of the previous layer\"\"\"\n",
    "        inter = (self.x >0) + (self.x <= 0)*alpha*torch.exp(self.x)\n",
    "        dl_del =  inter * output_grad[0]\n",
    "        return dl_del"
   ]
  },
  {
   "cell_type": "code",
   "execution_count": 118,
   "metadata": {},
   "outputs": [],
   "source": [
    "class SoftMax(ActivationFunc):\n",
    "    \n",
    "    def softmax(self, x):\n",
    "        expo = torch.exp(x - torch.max(x))\n",
    "        return expo /torch.sum(expo,0)\n",
    "    \n",
    "    def forward(self, x):\n",
    "        super().forward(x)\n",
    "        #self.x = x\n",
    "        return self.softmax(x)\n",
    "    \n",
    "    def backward(self, *output_grad):\n",
    "        \"\"\"first item of output_grad should be the derivative of the previous layer\"\"\"\n",
    "        \n",
    "        s = self.softmax(self.x)\n",
    "        dl_dsm = s * (1 - s)\n",
    "        dl_dsm = dl_dsm * output_grad[0]\n",
    "        return dl_dsm"
   ]
  },
  {
   "cell_type": "markdown",
   "metadata": {},
   "source": [
    "# Layers"
   ]
  },
  {
   "cell_type": "code",
   "execution_count": 119,
   "metadata": {},
   "outputs": [],
   "source": [
    "class Linear(object):\n",
    "    \n",
    "    def __init__(self, in_size, out_size, init = None):\n",
    "        if init is None:\n",
    "            std = 1\n",
    "        elif init is 'Xavier':\n",
    "            std = math.sqrt(1.0 / (in_size + out_size))\n",
    "        elif init is 'He':\n",
    "            std = math.sqrt(2.0 / in_size)\n",
    "            \n",
    "        self.weights = torch.empty(in_size, out_size).normal_(std = std)\n",
    "        self.bias = Tensor(1, out_size).normal_()\n",
    "        self.x = 0\n",
    "        self.dx1 = 0\n",
    "        \n",
    "    def forward(self, x):\n",
    "        self.x = x\n",
    "        #print('Forward Linear', (x @ self.weights) + self.bias)\n",
    "        return (x @ self.weights) + self.bias\n",
    "    \n",
    "    def backward(self, *output_grad):\n",
    "        #print('Backward Linear')\n",
    "        \"\"\"first item of output_grad should be the derivative of the previous layer\"\"\"\n",
    "        self.dx1 = output_grad[0]\n",
    "        self.dw = self.x.t() @ self.dx1\n",
    "        #print(self.db.shape)\n",
    "        self.db = (self.dx1).sum(axis=0)\n",
    "        #print(self.db.shape)\n",
    "        return output_grad[0] @ self.weights.t()\n",
    "    \n",
    "    def grad(self):\n",
    "        dw = self.x.t() @ self.dx1\n",
    "        db = self.dx1\n",
    "        return [dw, db]\n",
    "    \n",
    "    def step(self, eta):\n",
    "        #print(self.weights)\n",
    "        dw = self.x.t() @ self.dx1\n",
    "        db = self.dx1\n",
    "        self.weights.add_(-eta * self.dw)\n",
    "\n",
    "        #if len(db.shape) > 1:\n",
    "            #self.bias.add_(-eta * db.sum(axis=0))\n",
    "        #else:\n",
    "            #print('b')\n",
    "        self.bias.add_(-eta * self.db)\n",
    "        return\n",
    "    \n",
    "    def requires_grad(self):\n",
    "        return True\n",
    "    \n",
    "    def zero_grad(self):\n",
    "        self.dw =0\n",
    "        self.db = 0\n",
    "        \n",
    "    def param(self):\n",
    "        return [[self.weights, self.dw], [self.bias, self.db]]"
   ]
  },
  {
   "cell_type": "code",
   "execution_count": 120,
   "metadata": {},
   "outputs": [],
   "source": [
    "class Sequential(object):\n",
    "    \n",
    "    def __init__(self, *layers):\n",
    "        self.layers = layers\n",
    "    \n",
    "    def forward(self, x):\n",
    "        y = x\n",
    "        for layer in self.layers:\n",
    "            y = layer.forward(y)        \n",
    "        return y\n",
    "    \n",
    "    def backward(self, *output_grad):\n",
    "        d_list = [output_grad[0]]\n",
    "        \n",
    "        # We iterate from last layer to first layer\n",
    "        # Each layer's gradient is then prepended to the gradient list\n",
    "        for layer in self.layers[::-1]:\n",
    "            d_list.insert(0, layer.backward(*d_list))            \n",
    "        return d_list\n",
    "    \n",
    "    def step(self, eta):\n",
    "        for layer in self.layers:\n",
    "            if layer.requires_grad():\n",
    "                layer.step(eta)\n",
    "    \n",
    "    def zero_grad(self):\n",
    "        for layer in self.layers:\n",
    "            layer.zero_grad()\n",
    "            \n",
    "    def param(self):\n",
    "        return [layer.param() for layer in self.layers]"
   ]
  },
  {
   "cell_type": "markdown",
   "metadata": {},
   "source": [
    "# Losses"
   ]
  },
  {
   "cell_type": "code",
   "execution_count": 121,
   "metadata": {},
   "outputs": [],
   "source": [
    "def softmax(x):\n",
    "        a,_ = torch.max(x, dim = 1)\n",
    "        expo = torch.exp(x - a.view(-1,1))\n",
    "        #print(expo.shape)\n",
    "        #print(torch.sum(expo, dim = 1).shape)\n",
    "        return expo /torch.sum(expo, dim = 1).view(-1,1)"
   ]
  },
  {
   "cell_type": "code",
   "execution_count": 122,
   "metadata": {},
   "outputs": [],
   "source": [
    "class Loss(object):\n",
    "    def loss(self,predicted,target):\n",
    "        pass\n",
    "    def dloss(self,predicted,target):\n",
    "        pass"
   ]
  },
  {
   "cell_type": "code",
   "execution_count": 123,
   "metadata": {},
   "outputs": [],
   "source": [
    "class MSELoss(Loss):\n",
    "    def loss(self,predicted, target):\n",
    "        return ((predicted - target)**2).mean()\n",
    "    \n",
    "    def dloss(self,predicted, target):\n",
    "        return 2 * (predicted - target)/(len(predicted))"
   ]
  },
  {
   "cell_type": "code",
   "execution_count": 124,
   "metadata": {},
   "outputs": [],
   "source": [
    "class CrossEntropyLoss(Loss):\n",
    "    \n",
    "    def loss(self,predicted, target):\n",
    "        a,_ = torch.max(predicted, dim = 1)\n",
    "\n",
    "        #loss = - (predicted*target).sum(dim=1) + torch.log(predicted.exp().sum(dim = 1))\n",
    "        loss = - (predicted*target).sum(dim = 1)\n",
    "        loss += a\n",
    "        loss += torch.log((predicted - a.view(-1,1)).exp().sum(dim=1))        \n",
    "        return loss.mean(dim = 0)\n",
    "    \n",
    "    def dloss(self,predicted, target):\n",
    "        #print((predicted == target)*1.0)\n",
    "        dloss = softmax(predicted) - target\n",
    "        return dloss/len(predicted)"
   ]
  },
  {
   "cell_type": "markdown",
   "metadata": {},
   "source": [
    "# Optimizer"
   ]
  },
  {
   "cell_type": "code",
   "execution_count": 146,
   "metadata": {},
   "outputs": [],
   "source": [
    "class Optimizer(object):\n",
    "    def __init__(self, eta, model):\n",
    "        self.eta = eta\n",
    "        self.model = model\n",
    "        \n",
    "    def step(self):\n",
    "        pass\n",
    "\n",
    "class SGD(Optimizer):\n",
    "    \n",
    "    def __init__(self, eta, model, weight_decay = 0):\n",
    "        super().__init__(eta, model)\n",
    "        self.weight_decay = weight_decay\n",
    "        \n",
    "    def step (self):\n",
    "        for layer in self.model.layers:\n",
    "            if layer.requires_grad():\n",
    "                for param in layer.param():\n",
    "                    param[0].add_(-self.eta * param[1] - self.weight_decay * param[0])    "
   ]
  },
  {
   "cell_type": "markdown",
   "metadata": {},
   "source": [
    "# Training"
   ]
  },
  {
   "cell_type": "code",
   "execution_count": 126,
   "metadata": {},
   "outputs": [],
   "source": [
    "def compute_error_ratio(predicted, classes):\n",
    "    #predicted_classes = (predicted > 0.5) * 1\n",
    "    _, predicted_classes = torch.max(predicted, 1)\n",
    "    _, labels = torch.max(classes, 1)\n",
    "    e = (predicted_classes - labels).float().abs().mean()\n",
    "    return e"
   ]
  },
  {
   "cell_type": "code",
   "execution_count": 127,
   "metadata": {},
   "outputs": [],
   "source": [
    "def generate_data(nb):\n",
    "    train_input = torch.rand(nb,2)\n",
    "    train_target = torch.empty(nb, dtype=torch.long)\n",
    "    train_target = train_input.sub(0.5).pow(2).sum(1).sub(1 / (2*math.pi)).sign().add(1).div(2).float().view(-1,1)\n",
    "    return train_input, train_target"
   ]
  },
  {
   "cell_type": "code",
   "execution_count": 128,
   "metadata": {},
   "outputs": [],
   "source": [
    "def convert_to_one_hot_labels(target):\n",
    "    tmp = torch.Tensor().new_zeros(target.size(0), int(target.max().item()) + 1)\n",
    "    tmp.scatter_(1, target.view(-1, 1).long(), 1.0)\n",
    "    return tmp"
   ]
  },
  {
   "cell_type": "code",
   "execution_count": 129,
   "metadata": {},
   "outputs": [],
   "source": [
    "train_input, train_target = generate_data(1000)\n",
    "test_input, test_target = generate_data(1000)"
   ]
  },
  {
   "cell_type": "code",
   "execution_count": 130,
   "metadata": {},
   "outputs": [],
   "source": [
    "train_target = convert_to_one_hot_labels(train_target)\n",
    "test_target = convert_to_one_hot_labels(test_target)"
   ]
  },
  {
   "cell_type": "code",
   "execution_count": 183,
   "metadata": {},
   "outputs": [],
   "source": [
    "def train_model(model, train_input, train_target, mini_batch_size=100, eta=0.01, reg = 0.001, iterations=1000):\n",
    "    \n",
    "    optimizer = SGD(eta = eta, model = model, weight_decay = reg)\n",
    "    training_loss = torch.empty((iterations,1)) #Training loss over epochs\n",
    "    training_error = torch.empty((iterations,1)) #Training error over epochs\n",
    "    criterion = MSELoss()\n",
    "    for i in range(iterations):\n",
    "        for inputs, targets in zip(train_input.split(mini_batch_size),\n",
    "                                  train_target.split(mini_batch_size)):\n",
    "        \n",
    "            predicted = model.forward(inputs)\n",
    "            loss = criterion.loss(predicted, targets)\n",
    "            e = compute_error_ratio(predicted, targets)\n",
    "        \n",
    "            dloss = criterion.dloss(predicted, targets)\n",
    "        \n",
    "            model.backward(dloss)\n",
    "            #model.step(eta)\n",
    "            optimizer.step()\n",
    "            model.zero_grad()\n",
    "        \n",
    "        #if i%100 == 0:\n",
    "            #print(\"Training Loss at {:04d}: {:3.3f} with {:02.2f}% of error\".format(i, loss, e*100), end = '\\r')\n",
    "        training_loss[i] = loss\n",
    "        training_error[i] = e\n",
    "        print(i, loss.item(), end = '\\r')\n",
    "\n",
    "    return training_loss, training_error"
   ]
  },
  {
   "cell_type": "code",
   "execution_count": 192,
   "metadata": {},
   "outputs": [],
   "source": [
    "def init_weights(m):\n",
    "    if type(m) == nn.Linear:\n",
    "        torch.nn.init.normal_(m.weight)\n",
    "        m.bias.data.normal_()\n",
    "\n",
    "def train_model_torch(model, train_input, train_target, mini_batch_size=100, eta=0.01, reg = 0.001, iterations=1000):\n",
    "    \n",
    "    torch.set_grad_enabled(True)\n",
    "    model.apply(init_weights)\n",
    "    optimizer = SGD(eta = eta, model = model, weight_decay = reg)\n",
    "    training_loss = torch.empty((iterations,1)) #Training loss over epochs\n",
    "    training_error = torch.empty((iterations,1)) #Training error over epochs\n",
    "    criterion = nn.MSELoss()\n",
    "    optimizer = optim.SGD(model.parameters(), lr=0.01, weight_decay = reg)\n",
    "\n",
    "    for i in range(iterations):\n",
    "        for b in range(0, train_input.size(0), mini_batch_size):\n",
    "            optimizer.zero_grad()\n",
    "            predicted = model(train_input.narrow(0, b, mini_batch_size))\n",
    "            loss = criterion(predicted, train_target.narrow(0, b, mini_batch_size))\n",
    "            e = compute_error_ratio(predicted, train_target.narrow(0, b, mini_batch_size))\n",
    "            loss.backward()\n",
    "            optimizer.step()\n",
    "\n",
    "        #if i%100 == 0:\n",
    "            #print(\"Training Loss at {:04d}: {:3.3f} with {:02.2f}% of error\".format(i, loss, e*100), end = '\\r')\n",
    "        training_loss[i] = loss\n",
    "        training_error[i] = e\n",
    "        print(i, loss.item(), end = '\\r')\n",
    "        \n",
    "    torch.set_grad_enabled(False)\n",
    "    return training_loss, training_error"
   ]
  },
  {
   "cell_type": "code",
   "execution_count": 193,
   "metadata": {},
   "outputs": [],
   "source": [
    "def evaluate_model(rounds=10, iterations = 1000, is_torch = False, lr = 0.01, reg = 0.001):\n",
    "\n",
    "    test_error = torch.empty((rounds,1))\n",
    "    train_error = torch.empty((rounds,1))\n",
    "    training_loss = torch.empty((rounds,iterations))\n",
    "    for k in range(rounds):\n",
    "        model = create_model(is_torch)\n",
    "        \n",
    "        if is_torch: model.apply(init_weights)\n",
    "        num_samples = 1000\n",
    "        \n",
    "        #Generate data\n",
    "        train_input, train_target = generate_data(1000)\n",
    "        test_input, test_target = generate_data(1000)\n",
    "        \n",
    "        train_target = convert_to_one_hot_labels(train_target)\n",
    "        test_target = convert_to_one_hot_labels(test_target)\n",
    "        \n",
    "        if is_torch:\n",
    "            loss, _ = train_model_torch(model, train_input, train_target, iterations=iterations, eta = lr, reg = reg)\n",
    "            predicted_test = model(test_input)\n",
    "            predicted_train = model(train_input)\n",
    "        else:\n",
    "            loss,_ = train_model(model, train_input, train_target, iterations = iterations, reg = reg)\n",
    "            predicted_test = model.forward(test_input)\n",
    "            predicted_train = model.forward(train_input)\n",
    "        \n",
    "        \n",
    "        err_test = compute_error_ratio(predicted_test, test_target)\n",
    "        err_train = compute_error_ratio(predicted_train, train_target)\n",
    "        \n",
    "        #print(loss.shape)\n",
    "        training_loss[k] = loss.t()\n",
    "        train_error[k] = err_train\n",
    "        test_error[k] = err_test\n",
    "        \n",
    "    return (torch.mean(test_error).item(), torch.std(test_error).item(), torch.mean(train_error).item(), torch.std(train_error).item(), torch.mean(training_loss, axis = 0))"
   ]
  },
  {
   "cell_type": "markdown",
   "metadata": {},
   "source": [
    "Comparison with Pytorch"
   ]
  },
  {
   "cell_type": "code",
   "execution_count": 194,
   "metadata": {},
   "outputs": [],
   "source": [
    "def create_model(torch, nb_hidden = 25):\n",
    "    if torch :\n",
    "        return nn.Sequential(nn.Linear(2,nb_hidden), nn.ReLU(), nn.Linear(nb_hidden,nb_hidden), nn.Tanh(), \n",
    "                           nn.Linear(nb_hidden,nb_hidden), nn.Sigmoid(), nn.Linear(nb_hidden,2))\n",
    "    else:\n",
    "        return Sequential(Linear(2,nb_hidden), ReLU(), Linear(nb_hidden,nb_hidden), Tanh(),\n",
    "                          Linear(nb_hidden,nb_hidden), Sigmoid(), Linear(nb_hidden,2))\n",
    "    "
   ]
  },
  {
   "cell_type": "code",
   "execution_count": 195,
   "metadata": {},
   "outputs": [
    {
     "name": "stdout",
     "output_type": "stream",
     "text": [
      "Custom framework with 10 rounds in 16.417131547099416:111486435 0.03806956112384796 0.037609148770570755 0.048460718244314194 0.04135759919881821 0.02793887071311474 0.04429428651928902 0.04339282587170601\n",
      "   training mean accuracy: 0.978\n",
      "   training std accuracy: 0.006\n",
      "   test mean accuracy: 0.975\n",
      "   test stdv accuracy: 0.007211\n",
      "\n",
      "999 0.032125134021043784 0.05139513313770294\r"
     ]
    },
    {
     "name": "stderr",
     "output_type": "stream",
     "text": [
      "The PostScript backend does not support transparency; partially transparent artists will be rendered opaque.\n",
      "The PostScript backend does not support transparency; partially transparent artists will be rendered opaque.\n"
     ]
    },
    {
     "name": "stdout",
     "output_type": "stream",
     "text": [
      "Pytorch framework with 10 rounds in 12.02842227930014:\n",
      "   training mean accuracy: 0.979\n",
      "   training std accuracy: 0.005\n",
      "   test mean accuracy: 0.972\n",
      "   test stdv accuracy: 0.007483\n",
      "\n"
     ]
    },
    {
     "data": {
      "image/png": "[encoded data removed]",
      "text/plain": [
       "<Figure size 432x288 with 1 Axes>"
      ]
     },
     "metadata": {
      "needs_background": "light"
     },
     "output_type": "display_data"
    }
   ],
   "source": [
    "dict_model = {\n",
    "    \"Custom framework\" : {\"torch\" : False},\n",
    "    \"Pytorch framework\" : {\"torch\" : True},\n",
    "}\n",
    "rounds= 10\n",
    "plt.figure()\n",
    "for key in dict_model.keys():\n",
    "    is_torch = dict_model[key][\"torch\"]\n",
    "    \n",
    "    start = time.perf_counter()\n",
    "    mean , std, mean_train, std_train, loss = evaluate_model(rounds, is_torch = is_torch, reg = 0)\n",
    "    avg_time = (time.perf_counter() - start) / rounds\n",
    "    mean = 1- mean\n",
    "    mean_train = 1 - mean_train\n",
    "    plt.plot(loss, label = \"{}\".format(key))\n",
    "    print(\"{} with {} rounds in {}:\".format(key, rounds, avg_time))\n",
    "    print(\"   training mean accuracy: {:.3f}\".format(mean_train))\n",
    "    print(\"   training std accuracy: {:.3f}\".format(std_train))\n",
    "    print(\"   test mean accuracy: {:.3f}\".format(mean))\n",
    "    print(\"   test stdv accuracy: {:.6f}\".format(std))\n",
    "    print()\n",
    "plt.legend()\n",
    "plt.xlabel('Epochs')\n",
    "plt.ylabel('Training loss')\n",
    "plt.savefig(\"comparison_with_mseloss.eps\")"
   ]
  },
  {
   "cell_type": "code",
   "execution_count": null,
   "metadata": {},
   "outputs": [],
   "source": []
  }
 ],
 "metadata": {
  "kernelspec": {
   "display_name": "Python 3",
   "language": "python",
   "name": "python3"
  },
  "language_info": {
   "codemirror_mode": {
    "name": "ipython",
    "version": 3
   },
   "file_extension": ".py",
   "mimetype": "text/x-python",
   "name": "python",
   "nbconvert_exporter": "python",
   "pygments_lexer": "ipython3",
   "version": "3.7.7"
  }
 },
 "nbformat": 4,
 "nbformat_minor": 4
}
